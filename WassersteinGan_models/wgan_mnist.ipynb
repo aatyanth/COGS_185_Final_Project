{
 "cells": [
  {
   "cell_type": "code",
   "execution_count": 1,
   "metadata": {},
   "outputs": [
    {
     "name": "stdout",
     "output_type": "stream",
     "text": [
      "Processing /Users/aatyanth/COGS_185/WassersteinGAN_GP-PyTorch\n",
      "  Preparing metadata (setup.py) ... \u001b[?25ldone\n",
      "\u001b[?25hRequirement already satisfied: torch in /Users/aatyanth/miniforge3/lib/python3.12/site-packages (from wgan_gp_pytorch==0.1.0) (2.6.0)\n",
      "Requirement already satisfied: filelock in /Users/aatyanth/miniforge3/lib/python3.12/site-packages (from torch->wgan_gp_pytorch==0.1.0) (3.17.0)\n",
      "Requirement already satisfied: typing-extensions>=4.10.0 in /Users/aatyanth/miniforge3/lib/python3.12/site-packages (from torch->wgan_gp_pytorch==0.1.0) (4.12.2)\n",
      "Requirement already satisfied: networkx in /Users/aatyanth/miniforge3/lib/python3.12/site-packages (from torch->wgan_gp_pytorch==0.1.0) (3.4.2)\n",
      "Requirement already satisfied: jinja2 in /Users/aatyanth/miniforge3/lib/python3.12/site-packages (from torch->wgan_gp_pytorch==0.1.0) (3.1.6)\n",
      "Requirement already satisfied: fsspec in /Users/aatyanth/miniforge3/lib/python3.12/site-packages (from torch->wgan_gp_pytorch==0.1.0) (2025.3.0)\n",
      "Requirement already satisfied: setuptools in /Users/aatyanth/miniforge3/lib/python3.12/site-packages (from torch->wgan_gp_pytorch==0.1.0) (75.8.0)\n",
      "Requirement already satisfied: sympy==1.13.1 in /Users/aatyanth/miniforge3/lib/python3.12/site-packages (from torch->wgan_gp_pytorch==0.1.0) (1.13.1)\n",
      "Requirement already satisfied: mpmath<1.4,>=1.1.0 in /Users/aatyanth/miniforge3/lib/python3.12/site-packages (from sympy==1.13.1->torch->wgan_gp_pytorch==0.1.0) (1.3.0)\n",
      "Requirement already satisfied: MarkupSafe>=2.0 in /Users/aatyanth/miniforge3/lib/python3.12/site-packages (from jinja2->torch->wgan_gp_pytorch==0.1.0) (3.0.2)\n",
      "Building wheels for collected packages: wgan_gp_pytorch\n",
      "  Building wheel for wgan_gp_pytorch (setup.py) ... \u001b[?25ldone\n",
      "\u001b[?25h  Created wheel for wgan_gp_pytorch: filename=wgan_gp_pytorch-0.1.0-py3-none-any.whl size=12958 sha256=d80fae448ae08905a68dc1f698d777d558efc82875e27390bddd649646728893\n",
      "  Stored in directory: /Users/aatyanth/Library/Caches/pip/wheels/cf/e2/00/74f5463336a04e7d8eaabe63a943ce9ceab82c55a1d607b98a\n",
      "Successfully built wgan_gp_pytorch\n",
      "Installing collected packages: wgan_gp_pytorch\n",
      "  Attempting uninstall: wgan_gp_pytorch\n",
      "    Found existing installation: wgan_gp_pytorch 0.1.0\n",
      "    Uninstalling wgan_gp_pytorch-0.1.0:\n",
      "      Successfully uninstalled wgan_gp_pytorch-0.1.0\n",
      "Successfully installed wgan_gp_pytorch-0.1.0\n",
      "Note: you may need to restart the kernel to use updated packages.\n"
     ]
    }
   ],
   "source": [
    "pip install /Users/aatyanth/COGS_185/WassersteinGAN_GP-PyTorch"
   ]
  },
  {
   "cell_type": "code",
   "execution_count": 2,
   "metadata": {},
   "outputs": [],
   "source": [
    "import torch\n",
    "import torchvision\n",
    "from wgangp_pytorch.models import Generator, Discriminator"
   ]
  },
  {
   "cell_type": "code",
   "execution_count": 3,
   "metadata": {},
   "outputs": [],
   "source": [
    "test = Generator()\n",
    "device = \"cuda\" if torch.cuda.is_available() else \"cpu\"\n",
    "\n",
    "torch.to"
   ]
  },
  {
   "cell_type": "code",
   "execution_count": null,
   "metadata": {},
   "outputs": [],
   "source": []
  }
 ],
 "metadata": {
  "kernelspec": {
   "display_name": "base",
   "language": "python",
   "name": "python3"
  },
  "language_info": {
   "codemirror_mode": {
    "name": "ipython",
    "version": 3
   },
   "file_extension": ".py",
   "mimetype": "text/x-python",
   "name": "python",
   "nbconvert_exporter": "python",
   "pygments_lexer": "ipython3",
   "version": "3.12.8"
  }
 },
 "nbformat": 4,
 "nbformat_minor": 2
}
